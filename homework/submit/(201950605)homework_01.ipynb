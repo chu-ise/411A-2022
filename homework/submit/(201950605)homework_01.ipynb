{
  "cells": [
    {
      "cell_type": "markdown",
      "metadata": {
        "id": "5GTmGA5eH11n"
      },
      "source": [
        "<a href=\"https://colab.research.google.com/github/chu-ise/378A-2022/blob/main/homework/homework_01.ipynb\" target=\"_parent\"><img src=\"https://colab.research.google.com/assets/colab-badge.svg\" alt=\"Open In Colab\"/></a>"
      ]
    },
    {
      "cell_type": "markdown",
      "metadata": {
        "id": "1bZZ8o0kH11q"
      },
      "source": [
        "# HW01: Python Basics for Text"
      ]
    },
    {
      "cell_type": "code",
      "execution_count": 1,
      "metadata": {
        "id": "M1PSkeBeH11q"
      },
      "outputs": [],
      "source": [
        "%%capture\n",
        "%pip install gdown numpy pandas matplotlib"
      ]
    },
    {
      "cell_type": "code",
      "execution_count": 2,
      "metadata": {
        "id": "00Rc9M7cH11s",
        "outputId": "fe5fd7c0-b525-4d23-c078-fe4e7b2d67d4",
        "colab": {
          "base_uri": "https://localhost:8080/",
          "height": 107
        }
      },
      "outputs": [
        {
          "output_type": "stream",
          "name": "stderr",
          "text": [
            "Downloading...\n",
            "From: https://drive.google.com/uc?id=1brXucwHS0k0g59Apj9PRhySezisrgo8c\n",
            "To: /content/korean_news.csv\n",
            "100%|██████████| 12.9M/12.9M [00:00<00:00, 82.0MB/s]\n"
          ]
        },
        {
          "output_type": "execute_result",
          "data": {
            "text/plain": [
              "'korean_news.csv'"
            ],
            "application/vnd.google.colaboratory.intrinsic+json": {
              "type": "string"
            }
          },
          "metadata": {},
          "execution_count": 2
        }
      ],
      "source": [
        "import gdown\n",
        "id = \"1brXucwHS0k0g59Apj9PRhySezisrgo8c\"\n",
        "data_file = \"korean_news.csv\"\n",
        "gdown.download(id=id, output=data_file, quiet=False, fuzzy=True)"
      ]
    },
    {
      "cell_type": "code",
      "execution_count": 3,
      "metadata": {
        "id": "tvJpXXGaH11s",
        "outputId": "ab762d99-66ca-4529-f4cc-fe259d86306c",
        "colab": {
          "base_uri": "https://localhost:8080/",
          "height": 371
        }
      },
      "outputs": [
        {
          "output_type": "execute_result",
          "data": {
            "text/plain": [
              "        id                doc_id            title  author publisher      date  \\\n",
              "0  4044817   NWRW2000000001.3667    조선일보 2019년 기사  최현묵 기자      조선일보  20190730   \n",
              "1  3009579  NWRW1900000036.37413    경향신문 2014년 기사   박효순기자     경향신문사  20140911   \n",
              "2  2290675  NWRW1900000007.23380    조선일보 2015년 기사     김성현     조선일보사  20151116   \n",
              "3   654141   NLRW1900000071.3353  광주매일신문 2017년 기사     오승지    광주매일신문  20170823   \n",
              "4  1026229  NLRW1900000145.17890    영남일보 2011년 기사     남정현      영남일보  20111212   \n",
              "\n",
              "   topic                                    original_topic     category  \\\n",
              "0     사회  정치,정부|경제/산업,거시경제,무역분쟁|경제/산업,거시경제,무역협정|정치,외교,외교관계    신문>전국 종합지   \n",
              "1  미용/건강                                             인물>인사  신문 > 전국 종합지   \n",
              "2     경제                           정치,특정 지역의 자치|경제/산업,기업정보  신문 > 전국 종합지   \n",
              "3  IT/과학                                                경제  신문 > 지역 종합지   \n",
              "4     사회                                             미분류||  신문 > 지역 종합지   \n",
              "\n",
              "                                                text  \n",
              "0  정부 \"일본이 중과 희토류 분쟁때 했던 말, 되돌려주고 싶다\"\\n\"희토류 수출 제한...  \n",
              "1  박 대통령 새 주치의에 서울대 서창석 교수\\n박근혜 대통령의 새 주치의에 서창석 서...  \n",
              "2  행남자기, 목포 주민의 사랑 잊지 말길\\n전남 목포에서 73년간 향토기업으로서 맥을...  \n",
              "3  세계 첫 '해킹 원천차단 광케이블' 개발\\n광주지역 한 광통신업체가 세계 최초로 해...  \n",
              "4  12.11/문경/문경시의회 가처분 수용 갈등사태 장기화 조짐\\n문경시의회 의장단 불...  "
            ],
            "text/html": [
              "\n",
              "  <div id=\"df-95def34b-1091-4da4-a8df-32862d4f48e7\">\n",
              "    <div class=\"colab-df-container\">\n",
              "      <div>\n",
              "<style scoped>\n",
              "    .dataframe tbody tr th:only-of-type {\n",
              "        vertical-align: middle;\n",
              "    }\n",
              "\n",
              "    .dataframe tbody tr th {\n",
              "        vertical-align: top;\n",
              "    }\n",
              "\n",
              "    .dataframe thead th {\n",
              "        text-align: right;\n",
              "    }\n",
              "</style>\n",
              "<table border=\"1\" class=\"dataframe\">\n",
              "  <thead>\n",
              "    <tr style=\"text-align: right;\">\n",
              "      <th></th>\n",
              "      <th>id</th>\n",
              "      <th>doc_id</th>\n",
              "      <th>title</th>\n",
              "      <th>author</th>\n",
              "      <th>publisher</th>\n",
              "      <th>date</th>\n",
              "      <th>topic</th>\n",
              "      <th>original_topic</th>\n",
              "      <th>category</th>\n",
              "      <th>text</th>\n",
              "    </tr>\n",
              "  </thead>\n",
              "  <tbody>\n",
              "    <tr>\n",
              "      <th>0</th>\n",
              "      <td>4044817</td>\n",
              "      <td>NWRW2000000001.3667</td>\n",
              "      <td>조선일보 2019년 기사</td>\n",
              "      <td>최현묵 기자</td>\n",
              "      <td>조선일보</td>\n",
              "      <td>20190730</td>\n",
              "      <td>사회</td>\n",
              "      <td>정치,정부|경제/산업,거시경제,무역분쟁|경제/산업,거시경제,무역협정|정치,외교,외교관계</td>\n",
              "      <td>신문&gt;전국 종합지</td>\n",
              "      <td>정부 \"일본이 중과 희토류 분쟁때 했던 말, 되돌려주고 싶다\"\\n\"희토류 수출 제한...</td>\n",
              "    </tr>\n",
              "    <tr>\n",
              "      <th>1</th>\n",
              "      <td>3009579</td>\n",
              "      <td>NWRW1900000036.37413</td>\n",
              "      <td>경향신문 2014년 기사</td>\n",
              "      <td>박효순기자</td>\n",
              "      <td>경향신문사</td>\n",
              "      <td>20140911</td>\n",
              "      <td>미용/건강</td>\n",
              "      <td>인물&gt;인사</td>\n",
              "      <td>신문 &gt; 전국 종합지</td>\n",
              "      <td>박 대통령 새 주치의에 서울대 서창석 교수\\n박근혜 대통령의 새 주치의에 서창석 서...</td>\n",
              "    </tr>\n",
              "    <tr>\n",
              "      <th>2</th>\n",
              "      <td>2290675</td>\n",
              "      <td>NWRW1900000007.23380</td>\n",
              "      <td>조선일보 2015년 기사</td>\n",
              "      <td>김성현</td>\n",
              "      <td>조선일보사</td>\n",
              "      <td>20151116</td>\n",
              "      <td>경제</td>\n",
              "      <td>정치,특정 지역의 자치|경제/산업,기업정보</td>\n",
              "      <td>신문 &gt; 전국 종합지</td>\n",
              "      <td>행남자기, 목포 주민의 사랑 잊지 말길\\n전남 목포에서 73년간 향토기업으로서 맥을...</td>\n",
              "    </tr>\n",
              "    <tr>\n",
              "      <th>3</th>\n",
              "      <td>654141</td>\n",
              "      <td>NLRW1900000071.3353</td>\n",
              "      <td>광주매일신문 2017년 기사</td>\n",
              "      <td>오승지</td>\n",
              "      <td>광주매일신문</td>\n",
              "      <td>20170823</td>\n",
              "      <td>IT/과학</td>\n",
              "      <td>경제</td>\n",
              "      <td>신문 &gt; 지역 종합지</td>\n",
              "      <td>세계 첫 '해킹 원천차단 광케이블' 개발\\n광주지역 한 광통신업체가 세계 최초로 해...</td>\n",
              "    </tr>\n",
              "    <tr>\n",
              "      <th>4</th>\n",
              "      <td>1026229</td>\n",
              "      <td>NLRW1900000145.17890</td>\n",
              "      <td>영남일보 2011년 기사</td>\n",
              "      <td>남정현</td>\n",
              "      <td>영남일보</td>\n",
              "      <td>20111212</td>\n",
              "      <td>사회</td>\n",
              "      <td>미분류||</td>\n",
              "      <td>신문 &gt; 지역 종합지</td>\n",
              "      <td>12.11/문경/문경시의회 가처분 수용 갈등사태 장기화 조짐\\n문경시의회 의장단 불...</td>\n",
              "    </tr>\n",
              "  </tbody>\n",
              "</table>\n",
              "</div>\n",
              "      <button class=\"colab-df-convert\" onclick=\"convertToInteractive('df-95def34b-1091-4da4-a8df-32862d4f48e7')\"\n",
              "              title=\"Convert this dataframe to an interactive table.\"\n",
              "              style=\"display:none;\">\n",
              "        \n",
              "  <svg xmlns=\"http://www.w3.org/2000/svg\" height=\"24px\"viewBox=\"0 0 24 24\"\n",
              "       width=\"24px\">\n",
              "    <path d=\"M0 0h24v24H0V0z\" fill=\"none\"/>\n",
              "    <path d=\"M18.56 5.44l.94 2.06.94-2.06 2.06-.94-2.06-.94-.94-2.06-.94 2.06-2.06.94zm-11 1L8.5 8.5l.94-2.06 2.06-.94-2.06-.94L8.5 2.5l-.94 2.06-2.06.94zm10 10l.94 2.06.94-2.06 2.06-.94-2.06-.94-.94-2.06-.94 2.06-2.06.94z\"/><path d=\"M17.41 7.96l-1.37-1.37c-.4-.4-.92-.59-1.43-.59-.52 0-1.04.2-1.43.59L10.3 9.45l-7.72 7.72c-.78.78-.78 2.05 0 2.83L4 21.41c.39.39.9.59 1.41.59.51 0 1.02-.2 1.41-.59l7.78-7.78 2.81-2.81c.8-.78.8-2.07 0-2.86zM5.41 20L4 18.59l7.72-7.72 1.47 1.35L5.41 20z\"/>\n",
              "  </svg>\n",
              "      </button>\n",
              "      \n",
              "  <style>\n",
              "    .colab-df-container {\n",
              "      display:flex;\n",
              "      flex-wrap:wrap;\n",
              "      gap: 12px;\n",
              "    }\n",
              "\n",
              "    .colab-df-convert {\n",
              "      background-color: #E8F0FE;\n",
              "      border: none;\n",
              "      border-radius: 50%;\n",
              "      cursor: pointer;\n",
              "      display: none;\n",
              "      fill: #1967D2;\n",
              "      height: 32px;\n",
              "      padding: 0 0 0 0;\n",
              "      width: 32px;\n",
              "    }\n",
              "\n",
              "    .colab-df-convert:hover {\n",
              "      background-color: #E2EBFA;\n",
              "      box-shadow: 0px 1px 2px rgba(60, 64, 67, 0.3), 0px 1px 3px 1px rgba(60, 64, 67, 0.15);\n",
              "      fill: #174EA6;\n",
              "    }\n",
              "\n",
              "    [theme=dark] .colab-df-convert {\n",
              "      background-color: #3B4455;\n",
              "      fill: #D2E3FC;\n",
              "    }\n",
              "\n",
              "    [theme=dark] .colab-df-convert:hover {\n",
              "      background-color: #434B5C;\n",
              "      box-shadow: 0px 1px 3px 1px rgba(0, 0, 0, 0.15);\n",
              "      filter: drop-shadow(0px 1px 2px rgba(0, 0, 0, 0.3));\n",
              "      fill: #FFFFFF;\n",
              "    }\n",
              "  </style>\n",
              "\n",
              "      <script>\n",
              "        const buttonEl =\n",
              "          document.querySelector('#df-95def34b-1091-4da4-a8df-32862d4f48e7 button.colab-df-convert');\n",
              "        buttonEl.style.display =\n",
              "          google.colab.kernel.accessAllowed ? 'block' : 'none';\n",
              "\n",
              "        async function convertToInteractive(key) {\n",
              "          const element = document.querySelector('#df-95def34b-1091-4da4-a8df-32862d4f48e7');\n",
              "          const dataTable =\n",
              "            await google.colab.kernel.invokeFunction('convertToInteractive',\n",
              "                                                     [key], {});\n",
              "          if (!dataTable) return;\n",
              "\n",
              "          const docLinkHtml = 'Like what you see? Visit the ' +\n",
              "            '<a target=\"_blank\" href=https://colab.research.google.com/notebooks/data_table.ipynb>data table notebook</a>'\n",
              "            + ' to learn more about interactive tables.';\n",
              "          element.innerHTML = '';\n",
              "          dataTable['output_type'] = 'display_data';\n",
              "          await google.colab.output.renderOutput(dataTable, element);\n",
              "          const docLink = document.createElement('div');\n",
              "          docLink.innerHTML = docLinkHtml;\n",
              "          element.appendChild(docLink);\n",
              "        }\n",
              "      </script>\n",
              "    </div>\n",
              "  </div>\n",
              "  "
            ]
          },
          "metadata": {},
          "execution_count": 3
        }
      ],
      "source": [
        "import pandas as pd\n",
        "df = pd.read_csv(data_file)\n",
        "df.head()"
      ]
    },
    {
      "cell_type": "markdown",
      "metadata": {
        "id": "jtTR_fNqH11t"
      },
      "source": [
        "1. 뉴스 다운로드\n",
        "2. 경제 뉴스만 추출\n",
        "3. 뉴스 길이 분포 그래프 생성\n",
        "4. 영어와 한국어 각각 단어수 분포 그래프 생성\n",
        "5. 연도별 불확실성 단어 시계열 그래프 생성\n"
      ]
    },
    {
      "cell_type": "code",
      "execution_count": null,
      "metadata": {
        "id": "OWGo-FJmH11t"
      },
      "outputs": [],
      "source": [
        ""
      ]
    }
  ],
  "metadata": {
    "interpreter": {
      "hash": "1cb483cf0c285c56169e405615a02d249d0d711aa034386fe0172be5ae49274c"
    },
    "kernelspec": {
      "display_name": "Python 3.9.2 64-bit ('nlp_test-3.9.2')",
      "language": "python",
      "name": "python3"
    },
    "language_info": {
      "codemirror_mode": {
        "name": "ipython",
        "version": 3
      },
      "file_extension": ".py",
      "mimetype": "text/x-python",
      "name": "python",
      "nbconvert_exporter": "python",
      "pygments_lexer": "ipython3",
      "version": "3.9.2"
    },
    "orig_nbformat": 4,
    "colab": {
      "name": "homework_01.ipynb",
      "provenance": []
    }
  },
  "nbformat": 4,
  "nbformat_minor": 0
}